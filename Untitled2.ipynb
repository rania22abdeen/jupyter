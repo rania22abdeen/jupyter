{
  "metadata": {
    "language_info": {
      "codemirror_mode": {
        "name": "python",
        "version": 3
      },
      "file_extension": ".py",
      "mimetype": "text/x-python",
      "name": "python",
      "nbconvert_exporter": "python",
      "pygments_lexer": "ipython3",
      "version": "3.8"
    },
    "kernelspec": {
      "name": "python",
      "display_name": "Python (Pyodide)",
      "language": "python"
    }
  },
  "nbformat_minor": 4,
  "nbformat": 4,
  "cells": [
    {
      "cell_type": "markdown",
      "source": "# \"My Jupyter Notebook on IBM Watson Studio\"",
      "metadata": {}
    },
    {
      "cell_type": "markdown",
      "source": "***Rania Abdeen***\n\nI'm unemplyed",
      "metadata": {}
    },
    {
      "cell_type": "markdown",
      "source": "*I'm Interested in data science because i enjoy problem-solving and statistical analysis*  ",
      "metadata": {}
    },
    {
      "cell_type": "markdown",
      "source": "### The following code is supposed to add two numbers",
      "metadata": {}
    },
    {
      "cell_type": "code",
      "source": "5+5",
      "metadata": {
        "trusted": true
      },
      "execution_count": 1,
      "outputs": [
        {
          "execution_count": 1,
          "output_type": "execute_result",
          "data": {
            "text/plain": "10"
          },
          "metadata": {}
        }
      ]
    },
    {
      "cell_type": "markdown",
      "source": "___\n\n* List 1 \n* List 2\n* List 3\n\n1. list 2\n2. list 4\n3. list 5 \n\n| Name | Age | job |\n| --- | --- | --- |\n| Anna | 26 | Engineer |\n\nhttps://www.ibm.com/eg-en\n\n",
      "metadata": {}
    },
    {
      "cell_type": "code",
      "source": "",
      "metadata": {},
      "execution_count": null,
      "outputs": []
    }
  ]
}