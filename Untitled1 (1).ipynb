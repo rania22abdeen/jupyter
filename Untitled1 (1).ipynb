{
  "metadata": {
    "language_info": {
      "codemirror_mode": {
        "name": "python",
        "version": 3
      },
      "file_extension": ".py",
      "mimetype": "text/x-python",
      "name": "python",
      "nbconvert_exporter": "python",
      "pygments_lexer": "ipython3",
      "version": "3.8"
    },
    "kernelspec": {
      "name": "python",
      "display_name": "Python (Pyodide)",
      "language": "python"
    }
  },
  "nbformat_minor": 4,
  "nbformat": 4,
  "cells": [
    {
      "cell_type": "markdown",
      "source": "# \"My Jupyter Notebook on IBM Watson Studio\"",
      "metadata": {}
    },
    {
      "cell_type": "markdown",
      "source": "**Rania Abdeen**\n\nI want to be data scientist",
      "metadata": {}
    },
    {
      "cell_type": "markdown",
      "source": "*I'm Interested in data science beacause i enjoy problem-solving and statistical analysis* ",
      "metadata": {}
    },
    {
      "cell_type": "markdown",
      "source": "### The following code supposed to add two numbers",
      "metadata": {}
    },
    {
      "cell_type": "code",
      "source": "2+5",
      "metadata": {
        "trusted": true
      },
      "execution_count": 3,
      "outputs": [
        {
          "execution_count": 3,
          "output_type": "execute_result",
          "data": {
            "text/plain": "7"
          },
          "metadata": {}
        }
      ]
    },
    {
      "cell_type": "markdown",
      "source": "___\n\n\nprogramin languages \n* python\n* C++\n* Java\n\nother programing languages \n1. Java script\n2. R",
      "metadata": {}
    },
    {
      "cell_type": "code",
      "source": "",
      "metadata": {},
      "execution_count": null,
      "outputs": []
    }
  ]
}